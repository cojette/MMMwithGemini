{
 "cells": [
  {
   "cell_type": "markdown",
   "id": "7f067306-5e35-46dc-89df-d160521feeee",
   "metadata": {},
   "source": [
    "## LightweightMMM 에 Gemini 적용하기\n",
    "\n",
    "by JeongMin Kwon (cojette@gmail.com)\n",
    "\n",
    "LightweightMMM을 사람들이 더 손쉽게 활용하고 바로 마케팅에 적용할 수 있도록 일부 요소에 Gemini API를 적용하여 보다 쉬운 형태의 MMM(Marketing Mix Model)을 만듭니다.\n",
    "\n",
    "* LightweightMMM: https://github.com/google/lightweight_mmm\n",
    "* Gemini AI Studio : https://ai.google.dev/\n"
   ]
  },
  {
   "cell_type": "code",
   "execution_count": 2,
   "id": "bfb6ad1b-5789-4e2a-8cb1-b68d9f3540ce",
   "metadata": {
    "collapsed": true,
    "jupyter": {
     "outputs_hidden": true
    },
    "tags": []
   },
   "outputs": [
    {
     "name": "stdout",
     "output_type": "stream",
     "text": [
      "Collecting git+https://github.com/google/lightweight_mmm.git\n",
      "  Cloning https://github.com/google/lightweight_mmm.git to /var/tmp/pip-req-build-07xhfrz_\n",
      "  Running command git clone --filter=blob:none --quiet https://github.com/google/lightweight_mmm.git /var/tmp/pip-req-build-07xhfrz_\n",
      "  Resolved https://github.com/google/lightweight_mmm.git to commit 4406aaa77bddc5b0d73d31c6cf4f2ace03f3ffda\n",
      "  Preparing metadata (setup.py) ... \u001b[?25ldone\n",
      "\u001b[?25hRequirement already satisfied: absl-py in /opt/conda/lib/python3.10/site-packages (from lightweight_mmm==0.1.9) (1.4.0)\n",
      "Requirement already satisfied: arviz>=0.11.2 in /opt/conda/lib/python3.10/site-packages (from lightweight_mmm==0.1.9) (0.18.0)\n",
      "Requirement already satisfied: immutabledict>=2.0.0 in /opt/conda/lib/python3.10/site-packages (from lightweight_mmm==0.1.9) (4.2.0)\n",
      "Requirement already satisfied: jax>=0.3.18 in /opt/conda/lib/python3.10/site-packages (from lightweight_mmm==0.1.9) (0.4.26)\n",
      "Requirement already satisfied: jaxlib>=0.3.18 in /opt/conda/lib/python3.10/site-packages (from lightweight_mmm==0.1.9) (0.4.26)\n",
      "Collecting matplotlib==3.6.1 (from lightweight_mmm==0.1.9)\n",
      "  Using cached matplotlib-3.6.1-cp310-cp310-manylinux_2_17_x86_64.manylinux2014_x86_64.whl.metadata (6.8 kB)\n",
      "Requirement already satisfied: numpy>=1.23 in /opt/conda/lib/python3.10/site-packages (from lightweight_mmm==0.1.9) (1.24.4)\n",
      "Requirement already satisfied: numpyro>=0.9.2 in /opt/conda/lib/python3.10/site-packages (from lightweight_mmm==0.1.9) (0.13.1)\n",
      "Requirement already satisfied: pandas>=1.1.5 in /opt/conda/lib/python3.10/site-packages (from lightweight_mmm==0.1.9) (2.0.3)\n",
      "Requirement already satisfied: scipy in /opt/conda/lib/python3.10/site-packages (from lightweight_mmm==0.1.9) (1.11.4)\n",
      "Requirement already satisfied: seaborn==0.11.1 in /opt/conda/lib/python3.10/site-packages (from lightweight_mmm==0.1.9) (0.11.1)\n",
      "Requirement already satisfied: scikit-learn in /opt/conda/lib/python3.10/site-packages (from lightweight_mmm==0.1.9) (1.4.1.post1)\n",
      "Requirement already satisfied: statsmodels>=0.13.0 in /opt/conda/lib/python3.10/site-packages (from lightweight_mmm==0.1.9) (0.14.1)\n",
      "Requirement already satisfied: tensorflow>=2.7.2 in /opt/conda/lib/python3.10/site-packages (from lightweight_mmm==0.1.9) (2.11.0)\n",
      "Requirement already satisfied: contourpy>=1.0.1 in /opt/conda/lib/python3.10/site-packages (from matplotlib==3.6.1->lightweight_mmm==0.1.9) (1.2.0)\n",
      "Requirement already satisfied: cycler>=0.10 in /opt/conda/lib/python3.10/site-packages (from matplotlib==3.6.1->lightweight_mmm==0.1.9) (0.12.1)\n",
      "Requirement already satisfied: fonttools>=4.22.0 in /opt/conda/lib/python3.10/site-packages (from matplotlib==3.6.1->lightweight_mmm==0.1.9) (4.50.0)\n",
      "Requirement already satisfied: kiwisolver>=1.0.1 in /opt/conda/lib/python3.10/site-packages (from matplotlib==3.6.1->lightweight_mmm==0.1.9) (1.4.5)\n",
      "Requirement already satisfied: packaging>=20.0 in /opt/conda/lib/python3.10/site-packages (from matplotlib==3.6.1->lightweight_mmm==0.1.9) (24.0)\n",
      "Requirement already satisfied: pillow>=6.2.0 in /opt/conda/lib/python3.10/site-packages (from matplotlib==3.6.1->lightweight_mmm==0.1.9) (10.2.0)\n",
      "Requirement already satisfied: pyparsing>=2.2.1 in /opt/conda/lib/python3.10/site-packages (from matplotlib==3.6.1->lightweight_mmm==0.1.9) (3.1.2)\n",
      "Requirement already satisfied: python-dateutil>=2.7 in /opt/conda/lib/python3.10/site-packages (from matplotlib==3.6.1->lightweight_mmm==0.1.9) (2.9.0)\n",
      "Requirement already satisfied: setuptools>=60.0.0 in /opt/conda/lib/python3.10/site-packages (from arviz>=0.11.2->lightweight_mmm==0.1.9) (69.2.0)\n",
      "Requirement already satisfied: dm-tree>=0.1.8 in /opt/conda/lib/python3.10/site-packages (from arviz>=0.11.2->lightweight_mmm==0.1.9) (0.1.8)\n",
      "Requirement already satisfied: xarray>=2022.6.0 in /opt/conda/lib/python3.10/site-packages (from arviz>=0.11.2->lightweight_mmm==0.1.9) (2024.3.0)\n",
      "Requirement already satisfied: h5netcdf>=1.0.2 in /opt/conda/lib/python3.10/site-packages (from arviz>=0.11.2->lightweight_mmm==0.1.9) (1.3.0)\n",
      "Requirement already satisfied: typing-extensions>=4.1.0 in /opt/conda/lib/python3.10/site-packages (from arviz>=0.11.2->lightweight_mmm==0.1.9) (4.10.0)\n",
      "Requirement already satisfied: xarray-einstats>=0.3 in /opt/conda/lib/python3.10/site-packages (from arviz>=0.11.2->lightweight_mmm==0.1.9) (0.7.0)\n",
      "Requirement already satisfied: ml-dtypes>=0.2.0 in /opt/conda/lib/python3.10/site-packages (from jax>=0.3.18->lightweight_mmm==0.1.9) (0.4.0)\n",
      "Requirement already satisfied: opt-einsum in /opt/conda/lib/python3.10/site-packages (from jax>=0.3.18->lightweight_mmm==0.1.9) (3.3.0)\n",
      "Requirement already satisfied: multipledispatch in /opt/conda/lib/python3.10/site-packages (from numpyro>=0.9.2->lightweight_mmm==0.1.9) (1.0.0)\n",
      "Requirement already satisfied: tqdm in /opt/conda/lib/python3.10/site-packages (from numpyro>=0.9.2->lightweight_mmm==0.1.9) (4.66.2)\n",
      "Requirement already satisfied: pytz>=2020.1 in /opt/conda/lib/python3.10/site-packages (from pandas>=1.1.5->lightweight_mmm==0.1.9) (2024.1)\n",
      "Requirement already satisfied: tzdata>=2022.1 in /opt/conda/lib/python3.10/site-packages (from pandas>=1.1.5->lightweight_mmm==0.1.9) (2024.1)\n",
      "Requirement already satisfied: patsy>=0.5.4 in /opt/conda/lib/python3.10/site-packages (from statsmodels>=0.13.0->lightweight_mmm==0.1.9) (0.5.6)\n",
      "Requirement already satisfied: astunparse>=1.6.0 in /opt/conda/lib/python3.10/site-packages (from tensorflow>=2.7.2->lightweight_mmm==0.1.9) (1.6.3)\n",
      "Requirement already satisfied: flatbuffers>=2.0 in /opt/conda/lib/python3.10/site-packages (from tensorflow>=2.7.2->lightweight_mmm==0.1.9) (24.3.7)\n",
      "Requirement already satisfied: gast<=0.4.0,>=0.2.1 in /opt/conda/lib/python3.10/site-packages (from tensorflow>=2.7.2->lightweight_mmm==0.1.9) (0.4.0)\n",
      "Requirement already satisfied: google-pasta>=0.1.1 in /opt/conda/lib/python3.10/site-packages (from tensorflow>=2.7.2->lightweight_mmm==0.1.9) (0.2.0)\n",
      "Requirement already satisfied: grpcio<2.0,>=1.24.3 in /opt/conda/lib/python3.10/site-packages (from tensorflow>=2.7.2->lightweight_mmm==0.1.9) (1.48.1)\n",
      "Requirement already satisfied: h5py>=2.9.0 in /opt/conda/lib/python3.10/site-packages (from tensorflow>=2.7.2->lightweight_mmm==0.1.9) (3.10.0)\n",
      "Requirement already satisfied: keras<2.12,>=2.11.0 in /opt/conda/lib/python3.10/site-packages (from tensorflow>=2.7.2->lightweight_mmm==0.1.9) (2.11.0)\n",
      "Requirement already satisfied: libclang>=13.0.0 in /opt/conda/lib/python3.10/site-packages (from tensorflow>=2.7.2->lightweight_mmm==0.1.9) (18.1.1)\n",
      "Requirement already satisfied: protobuf<3.20,>=3.9.2 in /opt/conda/lib/python3.10/site-packages (from tensorflow>=2.7.2->lightweight_mmm==0.1.9) (3.19.6)\n",
      "Requirement already satisfied: six>=1.12.0 in /opt/conda/lib/python3.10/site-packages (from tensorflow>=2.7.2->lightweight_mmm==0.1.9) (1.16.0)\n",
      "Requirement already satisfied: tensorboard<2.12,>=2.11 in /opt/conda/lib/python3.10/site-packages (from tensorflow>=2.7.2->lightweight_mmm==0.1.9) (2.11.2)\n",
      "Requirement already satisfied: tensorflow-estimator<2.12,>=2.11.0 in /opt/conda/lib/python3.10/site-packages (from tensorflow>=2.7.2->lightweight_mmm==0.1.9) (2.11.0)\n",
      "Requirement already satisfied: termcolor>=1.1.0 in /opt/conda/lib/python3.10/site-packages (from tensorflow>=2.7.2->lightweight_mmm==0.1.9) (2.4.0)\n",
      "Requirement already satisfied: wrapt>=1.11.0 in /opt/conda/lib/python3.10/site-packages (from tensorflow>=2.7.2->lightweight_mmm==0.1.9) (1.16.0)\n",
      "Requirement already satisfied: tensorflow-io-gcs-filesystem>=0.23.1 in /opt/conda/lib/python3.10/site-packages (from tensorflow>=2.7.2->lightweight_mmm==0.1.9) (0.29.0)\n",
      "Requirement already satisfied: joblib>=1.2.0 in /opt/conda/lib/python3.10/site-packages (from scikit-learn->lightweight_mmm==0.1.9) (1.3.2)\n",
      "Requirement already satisfied: threadpoolctl>=2.0.0 in /opt/conda/lib/python3.10/site-packages (from scikit-learn->lightweight_mmm==0.1.9) (3.3.0)\n",
      "Requirement already satisfied: wheel<1.0,>=0.23.0 in /opt/conda/lib/python3.10/site-packages (from astunparse>=1.6.0->tensorflow>=2.7.2->lightweight_mmm==0.1.9) (0.42.0)\n",
      "Requirement already satisfied: google-auth<3,>=1.6.3 in /opt/conda/lib/python3.10/site-packages (from tensorboard<2.12,>=2.11->tensorflow>=2.7.2->lightweight_mmm==0.1.9) (2.28.2)\n",
      "Requirement already satisfied: google-auth-oauthlib<0.5,>=0.4.1 in /opt/conda/lib/python3.10/site-packages (from tensorboard<2.12,>=2.11->tensorflow>=2.7.2->lightweight_mmm==0.1.9) (0.4.6)\n",
      "Requirement already satisfied: markdown>=2.6.8 in /opt/conda/lib/python3.10/site-packages (from tensorboard<2.12,>=2.11->tensorflow>=2.7.2->lightweight_mmm==0.1.9) (3.6)\n",
      "Requirement already satisfied: requests<3,>=2.21.0 in /opt/conda/lib/python3.10/site-packages (from tensorboard<2.12,>=2.11->tensorflow>=2.7.2->lightweight_mmm==0.1.9) (2.31.0)\n",
      "Requirement already satisfied: tensorboard-data-server<0.7.0,>=0.6.0 in /opt/conda/lib/python3.10/site-packages (from tensorboard<2.12,>=2.11->tensorflow>=2.7.2->lightweight_mmm==0.1.9) (0.6.1)\n",
      "Requirement already satisfied: tensorboard-plugin-wit>=1.6.0 in /opt/conda/lib/python3.10/site-packages (from tensorboard<2.12,>=2.11->tensorflow>=2.7.2->lightweight_mmm==0.1.9) (1.8.1)\n",
      "Requirement already satisfied: werkzeug>=1.0.1 in /opt/conda/lib/python3.10/site-packages (from tensorboard<2.12,>=2.11->tensorflow>=2.7.2->lightweight_mmm==0.1.9) (2.1.2)\n",
      "Requirement already satisfied: cachetools<6.0,>=2.0.0 in /opt/conda/lib/python3.10/site-packages (from google-auth<3,>=1.6.3->tensorboard<2.12,>=2.11->tensorflow>=2.7.2->lightweight_mmm==0.1.9) (4.2.4)\n",
      "Requirement already satisfied: pyasn1-modules>=0.2.1 in /opt/conda/lib/python3.10/site-packages (from google-auth<3,>=1.6.3->tensorboard<2.12,>=2.11->tensorflow>=2.7.2->lightweight_mmm==0.1.9) (0.3.0)\n",
      "Requirement already satisfied: rsa<5,>=3.1.4 in /opt/conda/lib/python3.10/site-packages (from google-auth<3,>=1.6.3->tensorboard<2.12,>=2.11->tensorflow>=2.7.2->lightweight_mmm==0.1.9) (4.9)\n",
      "Requirement already satisfied: requests-oauthlib>=0.7.0 in /opt/conda/lib/python3.10/site-packages (from google-auth-oauthlib<0.5,>=0.4.1->tensorboard<2.12,>=2.11->tensorflow>=2.7.2->lightweight_mmm==0.1.9) (1.4.0)\n",
      "Requirement already satisfied: charset-normalizer<4,>=2 in /opt/conda/lib/python3.10/site-packages (from requests<3,>=2.21.0->tensorboard<2.12,>=2.11->tensorflow>=2.7.2->lightweight_mmm==0.1.9) (3.3.2)\n",
      "Requirement already satisfied: idna<4,>=2.5 in /opt/conda/lib/python3.10/site-packages (from requests<3,>=2.21.0->tensorboard<2.12,>=2.11->tensorflow>=2.7.2->lightweight_mmm==0.1.9) (3.6)\n",
      "Requirement already satisfied: urllib3<3,>=1.21.1 in /opt/conda/lib/python3.10/site-packages (from requests<3,>=2.21.0->tensorboard<2.12,>=2.11->tensorflow>=2.7.2->lightweight_mmm==0.1.9) (1.26.18)\n",
      "Requirement already satisfied: certifi>=2017.4.17 in /opt/conda/lib/python3.10/site-packages (from requests<3,>=2.21.0->tensorboard<2.12,>=2.11->tensorflow>=2.7.2->lightweight_mmm==0.1.9) (2024.2.2)\n",
      "Requirement already satisfied: pyasn1<0.6.0,>=0.4.6 in /opt/conda/lib/python3.10/site-packages (from pyasn1-modules>=0.2.1->google-auth<3,>=1.6.3->tensorboard<2.12,>=2.11->tensorflow>=2.7.2->lightweight_mmm==0.1.9) (0.5.1)\n",
      "Requirement already satisfied: oauthlib>=3.0.0 in /opt/conda/lib/python3.10/site-packages (from requests-oauthlib>=0.7.0->google-auth-oauthlib<0.5,>=0.4.1->tensorboard<2.12,>=2.11->tensorflow>=2.7.2->lightweight_mmm==0.1.9) (3.2.2)\n",
      "Using cached matplotlib-3.6.1-cp310-cp310-manylinux_2_17_x86_64.manylinux2014_x86_64.whl (11.8 MB)\n",
      "Installing collected packages: matplotlib\n",
      "  Attempting uninstall: matplotlib\n",
      "    Found existing installation: matplotlib 3.8.4\n",
      "    Uninstalling matplotlib-3.8.4:\n",
      "      Successfully uninstalled matplotlib-3.8.4\n",
      "Successfully installed matplotlib-3.6.1\n",
      "Requirement already satisfied: numpyro==0.13.1 in /opt/conda/lib/python3.10/site-packages (0.13.1)\n",
      "Requirement already satisfied: jax>=0.4.14 in /opt/conda/lib/python3.10/site-packages (from numpyro==0.13.1) (0.4.26)\n",
      "Requirement already satisfied: jaxlib>=0.4.14 in /opt/conda/lib/python3.10/site-packages (from numpyro==0.13.1) (0.4.26)\n",
      "Requirement already satisfied: multipledispatch in /opt/conda/lib/python3.10/site-packages (from numpyro==0.13.1) (1.0.0)\n",
      "Requirement already satisfied: numpy in /opt/conda/lib/python3.10/site-packages (from numpyro==0.13.1) (1.24.4)\n",
      "Requirement already satisfied: tqdm in /opt/conda/lib/python3.10/site-packages (from numpyro==0.13.1) (4.66.2)\n",
      "Requirement already satisfied: ml-dtypes>=0.2.0 in /opt/conda/lib/python3.10/site-packages (from jax>=0.4.14->numpyro==0.13.1) (0.4.0)\n",
      "Requirement already satisfied: opt-einsum in /opt/conda/lib/python3.10/site-packages (from jax>=0.4.14->numpyro==0.13.1) (3.3.0)\n",
      "Requirement already satisfied: scipy>=1.9 in /opt/conda/lib/python3.10/site-packages (from jax>=0.4.14->numpyro==0.13.1) (1.11.4)\n"
     ]
    },
    {
     "name": "stderr",
     "output_type": "stream",
     "text": [
      "2024-04-22 12:25:50.143135: W tensorflow/compiler/xla/stream_executor/platform/default/dso_loader.cc:64] Could not load dynamic library 'libnvinfer.so.7'; dlerror: libnvinfer.so.7: cannot open shared object file: No such file or directory; LD_LIBRARY_PATH: /usr/local/cuda/lib64:/usr/local/nccl2/lib:/usr/local/cuda/extras/CUPTI/lib64\n",
      "2024-04-22 12:25:50.144981: W tensorflow/compiler/xla/stream_executor/platform/default/dso_loader.cc:64] Could not load dynamic library 'libnvinfer_plugin.so.7'; dlerror: libnvinfer_plugin.so.7: cannot open shared object file: No such file or directory; LD_LIBRARY_PATH: /usr/local/cuda/lib64:/usr/local/nccl2/lib:/usr/local/cuda/extras/CUPTI/lib64\n",
      "2024-04-22 12:25:50.145011: W tensorflow/compiler/tf2tensorrt/utils/py_utils.cc:38] TF-TRT Warning: Cannot dlopen some TensorRT libraries. If you would like to use Nvidia GPU with TensorRT, please make sure the missing libraries mentioned above are installed properly.\n"
     ]
    }
   ],
   "source": [
    "## !pip install --upgrade pip\n",
    "!pip3 install --upgrade git+https://github.com/google/lightweight_mmm.git\n",
    "!pip3 install numpyro==0.13.1\n",
    "import pandas as pd\n",
    "from lightweight_mmm import preprocessing, lightweight_mmm, plot, optimize_media\n",
    "import jax.numpy as jnp\n",
    "from sklearn.metrics import mean_absolute_percentage_error\n"
   ]
  },
  {
   "cell_type": "code",
   "execution_count": 3,
   "id": "febe725c-ce44-4fd3-b0eb-640b62873201",
   "metadata": {
    "collapsed": true,
    "jupyter": {
     "outputs_hidden": true
    },
    "tags": []
   },
   "outputs": [
    {
     "name": "stderr",
     "output_type": "stream",
     "text": [
      "/opt/conda/lib/python3.10/pty.py:89: RuntimeWarning: os.fork() was called. os.fork() is incompatible with multithreaded code, and JAX is multithreaded, so this will likely lead to a deadlock.\n",
      "  pid, fd = os.forkpty()\n"
     ]
    },
    {
     "name": "stdout",
     "output_type": "stream",
     "text": [
      "Requirement already satisfied: google-cloud in /opt/conda/lib/python3.10/site-packages (0.34.0)\n",
      "Requirement already satisfied: google-oauth in /opt/conda/lib/python3.10/site-packages (1.0.1)\n",
      "Requirement already satisfied: pyopenssl>=0.11 in /opt/conda/lib/python3.10/site-packages (from google-oauth) (24.0.0)\n",
      "Requirement already satisfied: requests in /opt/conda/lib/python3.10/site-packages (from google-oauth) (2.31.0)\n",
      "Requirement already satisfied: six in /opt/conda/lib/python3.10/site-packages (from google-oauth) (1.16.0)\n",
      "Requirement already satisfied: cryptography<43,>=41.0.5 in /opt/conda/lib/python3.10/site-packages (from pyopenssl>=0.11->google-oauth) (42.0.5)\n",
      "Requirement already satisfied: charset-normalizer<4,>=2 in /opt/conda/lib/python3.10/site-packages (from requests->google-oauth) (3.3.2)\n",
      "Requirement already satisfied: idna<4,>=2.5 in /opt/conda/lib/python3.10/site-packages (from requests->google-oauth) (3.6)\n",
      "Requirement already satisfied: urllib3<3,>=1.21.1 in /opt/conda/lib/python3.10/site-packages (from requests->google-oauth) (1.26.18)\n",
      "Requirement already satisfied: certifi>=2017.4.17 in /opt/conda/lib/python3.10/site-packages (from requests->google-oauth) (2024.2.2)\n",
      "Requirement already satisfied: cffi>=1.12 in /opt/conda/lib/python3.10/site-packages (from cryptography<43,>=41.0.5->pyopenssl>=0.11->google-oauth) (1.16.0)\n",
      "Requirement already satisfied: pycparser in /opt/conda/lib/python3.10/site-packages (from cffi>=1.12->cryptography<43,>=41.0.5->pyopenssl>=0.11->google-oauth) (2.21)\n"
     ]
    },
    {
     "data": {
      "text/html": [
       "<div>\n",
       "<style scoped>\n",
       "    .dataframe tbody tr th:only-of-type {\n",
       "        vertical-align: middle;\n",
       "    }\n",
       "\n",
       "    .dataframe tbody tr th {\n",
       "        vertical-align: top;\n",
       "    }\n",
       "\n",
       "    .dataframe thead th {\n",
       "        text-align: right;\n",
       "    }\n",
       "</style>\n",
       "<table border=\"1\" class=\"dataframe\">\n",
       "  <thead>\n",
       "    <tr style=\"text-align: right;\">\n",
       "      <th></th>\n",
       "      <th>Date</th>\n",
       "      <th>Brand_Alias</th>\n",
       "      <th>Ad_group_alias</th>\n",
       "      <th>ASIN_SKU_Alias</th>\n",
       "      <th>Marketplace</th>\n",
       "      <th>Impressions</th>\n",
       "      <th>Clicks</th>\n",
       "      <th>Spend</th>\n",
       "      <th>Sales</th>\n",
       "      <th>Orders</th>\n",
       "      <th>Units</th>\n",
       "      <th>Advertised_Units_sold</th>\n",
       "      <th>Other_SKU_units_sold</th>\n",
       "      <th>Advertised_SKU_Sales</th>\n",
       "      <th>Other_SKU_sales</th>\n",
       "      <th>Ad_Date</th>\n",
       "    </tr>\n",
       "  </thead>\n",
       "  <tbody>\n",
       "    <tr>\n",
       "      <th>0</th>\n",
       "      <td>Nov 08, 2021</td>\n",
       "      <td>Brand 1</td>\n",
       "      <td>Brand 1 Ad Group 1</td>\n",
       "      <td>ASIN374</td>\n",
       "      <td>Walmart</td>\n",
       "      <td>1168</td>\n",
       "      <td>23</td>\n",
       "      <td>7.37</td>\n",
       "      <td>0.0</td>\n",
       "      <td>0</td>\n",
       "      <td>0</td>\n",
       "      <td>0</td>\n",
       "      <td>0</td>\n",
       "      <td>0.0</td>\n",
       "      <td>0.0</td>\n",
       "      <td>2021-11-08</td>\n",
       "    </tr>\n",
       "    <tr>\n",
       "      <th>1</th>\n",
       "      <td>Nov 12, 2021</td>\n",
       "      <td>Brand 1</td>\n",
       "      <td>Brand 1 Ad Group 1</td>\n",
       "      <td>ASIN374</td>\n",
       "      <td>Walmart</td>\n",
       "      <td>0</td>\n",
       "      <td>0</td>\n",
       "      <td>0.00</td>\n",
       "      <td>0.0</td>\n",
       "      <td>0</td>\n",
       "      <td>0</td>\n",
       "      <td>0</td>\n",
       "      <td>0</td>\n",
       "      <td>0.0</td>\n",
       "      <td>0.0</td>\n",
       "      <td>2021-11-12</td>\n",
       "    </tr>\n",
       "    <tr>\n",
       "      <th>2</th>\n",
       "      <td>Nov 13, 2021</td>\n",
       "      <td>Brand 1</td>\n",
       "      <td>Brand 1 Ad Group 13</td>\n",
       "      <td>ASIN374</td>\n",
       "      <td>Walmart</td>\n",
       "      <td>1712</td>\n",
       "      <td>12</td>\n",
       "      <td>2.18</td>\n",
       "      <td>0.0</td>\n",
       "      <td>0</td>\n",
       "      <td>0</td>\n",
       "      <td>0</td>\n",
       "      <td>0</td>\n",
       "      <td>0.0</td>\n",
       "      <td>0.0</td>\n",
       "      <td>2021-11-13</td>\n",
       "    </tr>\n",
       "    <tr>\n",
       "      <th>3</th>\n",
       "      <td>Nov 14, 2021</td>\n",
       "      <td>Brand 1</td>\n",
       "      <td>Brand 1 Ad Group 13</td>\n",
       "      <td>ASIN374</td>\n",
       "      <td>Walmart</td>\n",
       "      <td>1014</td>\n",
       "      <td>4</td>\n",
       "      <td>0.70</td>\n",
       "      <td>0.0</td>\n",
       "      <td>0</td>\n",
       "      <td>0</td>\n",
       "      <td>0</td>\n",
       "      <td>0</td>\n",
       "      <td>0.0</td>\n",
       "      <td>0.0</td>\n",
       "      <td>2021-11-14</td>\n",
       "    </tr>\n",
       "    <tr>\n",
       "      <th>4</th>\n",
       "      <td>Nov 19, 2021</td>\n",
       "      <td>Brand 1</td>\n",
       "      <td>Brand 1 Ad Group 13</td>\n",
       "      <td>ASIN374</td>\n",
       "      <td>Walmart</td>\n",
       "      <td>1308</td>\n",
       "      <td>17</td>\n",
       "      <td>3.11</td>\n",
       "      <td>0.0</td>\n",
       "      <td>0</td>\n",
       "      <td>0</td>\n",
       "      <td>0</td>\n",
       "      <td>0</td>\n",
       "      <td>0.0</td>\n",
       "      <td>0.0</td>\n",
       "      <td>2021-11-19</td>\n",
       "    </tr>\n",
       "  </tbody>\n",
       "</table>\n",
       "</div>"
      ],
      "text/plain": [
       "           Date Brand_Alias       Ad_group_alias ASIN_SKU_Alias Marketplace  \\\n",
       "0  Nov 08, 2021     Brand 1   Brand 1 Ad Group 1        ASIN374     Walmart   \n",
       "1  Nov 12, 2021     Brand 1   Brand 1 Ad Group 1        ASIN374     Walmart   \n",
       "2  Nov 13, 2021     Brand 1  Brand 1 Ad Group 13        ASIN374     Walmart   \n",
       "3  Nov 14, 2021     Brand 1  Brand 1 Ad Group 13        ASIN374     Walmart   \n",
       "4  Nov 19, 2021     Brand 1  Brand 1 Ad Group 13        ASIN374     Walmart   \n",
       "\n",
       "   Impressions  Clicks  Spend  Sales  Orders  Units  Advertised_Units_sold  \\\n",
       "0         1168      23   7.37    0.0       0      0                      0   \n",
       "1            0       0   0.00    0.0       0      0                      0   \n",
       "2         1712      12   2.18    0.0       0      0                      0   \n",
       "3         1014       4   0.70    0.0       0      0                      0   \n",
       "4         1308      17   3.11    0.0       0      0                      0   \n",
       "\n",
       "   Other_SKU_units_sold  Advertised_SKU_Sales  Other_SKU_sales     Ad_Date  \n",
       "0                     0                   0.0              0.0  2021-11-08  \n",
       "1                     0                   0.0              0.0  2021-11-12  \n",
       "2                     0                   0.0              0.0  2021-11-13  \n",
       "3                     0                   0.0              0.0  2021-11-14  \n",
       "4                     0                   0.0              0.0  2021-11-19  "
      ]
     },
     "execution_count": 3,
     "metadata": {},
     "output_type": "execute_result"
    }
   ],
   "source": [
    "!pip3 install google-cloud\n",
    "!pip3 install google-oauth\n",
    "\n",
    "import glob\n",
    "from google.cloud import bigquery\n",
    "from google.oauth2 import service_account\n",
    "\n",
    "\n",
    "credential = service_account.Credentials.from_service_account_file([GCP Key File]) ## Input your key\n",
    "\n",
    "\n",
    "# GCP 클라이언트 객체 생성\n",
    "client = bigquery.Client(credentials = credential,\n",
    "                         project = credential.project_id)\n",
    "\n",
    "## 데이터 가져옴\n",
    "sql = \"\"\"\n",
    "SELECT\n",
    "    *,\n",
    "    CASE\n",
    "    WHEN Date LIKE '% 2021' THEN\n",
    "      PARSE_DATE('%b %d, %Y', REPLACE(Date, ' \"', ''))\n",
    "    WHEN Date LIKE '%/2021' THEN\n",
    "      PARSE_DATE('%m/%d/%Y', Date)\n",
    "    ELSE\n",
    "      NULL END AS Ad_Date\n",
    "   FROM adanalysis.campaigndata\n",
    "    \"\"\"\n",
    "\n",
    "query_job = client.query(sql)\n",
    "\n",
    "# 데이터프레임으로 변환\n",
    "df = query_job.to_dataframe()\n",
    "df.head()"
   ]
  },
  {
   "cell_type": "code",
   "execution_count": 4,
   "id": "ede722cb-c9a9-4dc5-8890-f7fdebab11c0",
   "metadata": {
    "collapsed": true,
    "jupyter": {
     "outputs_hidden": true,
     "source_hidden": true
    },
    "tags": []
   },
   "outputs": [
    {
     "name": "stderr",
     "output_type": "stream",
     "text": [
      "/opt/conda/lib/python3.10/pty.py:89: RuntimeWarning: os.fork() was called. os.fork() is incompatible with multithreaded code, and JAX is multithreaded, so this will likely lead to a deadlock.\n",
      "  pid, fd = os.forkpty()\n"
     ]
    }
   ],
   "source": [
    "# 구글 생성 AI 연동 및 차트 이미지 처리를 위해 필요한 라이브러리를 가져옴\n",
    "!pip3 install -U -q google-generativeai\n",
    "\n",
    "import google.generativeai as genai\n",
    "\n",
    "import base64\n",
    "import io\n",
    "import json\n",
    "import mimetypes\n",
    "import pathlib\n",
    "import pprint\n",
    "import requests\n",
    "\n",
    "import PIL.Image\n",
    "import IPython.display\n",
    "from IPython.display import Markdown"
   ]
  },
  {
   "cell_type": "markdown",
   "id": "f8313750-215d-46df-bb64-6c937b48688a",
   "metadata": {},
   "source": [
    "## Gemini for EDA \n",
    "\n",
    "LightWeightMMM에서는 따로 데이터를 확인하는 과정이 없으나, 데이터를 파악하는 과정은 데이터 분석에서 가장 중요합니다. 데이터를 확인한 후 필요시 일부 데이터는 필터링하거나 보완할 수 있습니다. \n",
    "\n",
    "여기서는 Gemini를 사용해서 모든 사용자가 데이터의 현황을 확인 가능하도록 자동으로 간단하게 EDA를 해서 문서 형태로 확인할 수 있도록 합니다. \n",
    "\n",
    "이 때 이 데이터가 MMM에 사용되는 것을 고려하여 해당 맥락에 맞춘 문서를 만들도록 합니다. "
   ]
  },
  {
   "cell_type": "code",
   "execution_count": 5,
   "id": "cc72ffb2-5f6c-4c75-8533-78eb56450c94",
   "metadata": {
    "tags": []
   },
   "outputs": [],
   "source": [
    "API_KEY = [Gemini API Key] ## Input your key\n",
    "genai.configure(api_key=API_KEY)"
   ]
  },
  {
   "cell_type": "code",
   "execution_count": 7,
   "id": "e4322d4d-8d8b-4a00-9acf-bccb391fa5b4",
   "metadata": {
    "tags": []
   },
   "outputs": [],
   "source": [
    "\n",
    "genaimodel = genai.GenerativeModel(model_name=\"gemini-1.5-pro-latest\")\n",
    "\n",
    "prompt_parts = \"This data has information about different ad groups that were set for brands in a few marketplaces like Walmart. It's from BigQuery.  This data are usually organized by Campaign, Ad Group (or Ad Set), and Ads. A campaign can have many ad groups that target different groups of people. For example, one ad group can be for people that subscribed to the e-mail list, another for people that visited sites. Then, inside each ad group, we have the ads that people in that group will see. We can have many ads, with different messages and formats (video vs image). We never really know which campaign or ad group will be the best before running. It’s normal to launch multiple ad groups and after a few days turn off the ones that are not reaching our goals (like paying too much for someone to install an app). This time, we have to analyze this data. It's very crucial for us. First of all, please Do a simple EDA with this data and find outlier rows that are unlikely to be utilized in the marketing mix model. Thanks in advance.\"\n",
    "\n",
    "# 모델 설정\n",
    "generation_config = {\n",
    "  \"temperature\": 2,\n",
    "  \"top_p\": 0.95,\n",
    "  \"top_k\": 0,\n",
    "  \"max_output_tokens\": 8192\n",
    "}\n",
    "\n",
    "response = genaimodel.generate_content([prompt_parts, df.to_csv()], generation_config=generation_config)\n",
    "\n"
   ]
  },
  {
   "cell_type": "code",
   "execution_count": 8,
   "id": "04a8b05e-ed1f-423f-9df0-1f2588710dd9",
   "metadata": {
    "tags": []
   },
   "outputs": [],
   "source": [
    "## 한글 번역\n",
    "\n",
    "response2 = genaimodel.generate_content([\"다음 내용을 한국어로 바꿔줘. \", response.text], generation_config=generation_config)"
   ]
  },
  {
   "cell_type": "code",
   "execution_count": 9,
   "id": "0e28b0d2-8299-413f-bd75-0a33b520d12d",
   "metadata": {
    "tags": []
   },
   "outputs": [
    {
     "data": {
      "text/markdown": [
       "> ## 광고 그룹 실적에 대한 탐색적 데이터 분석 (EDA)\n",
       "> \n",
       "> 제공된 데이터를 기반으로, 잠재적 이상치에 중점을 둔 초기 EDA는 다음과 같습니다.\n",
       "> \n",
       "> **요약 통계:**\n",
       "> \n",
       "> *   **노출 수:** 광고 그룹당 평균 노출 수는 약 9,943회이고, 중앙값은 2,889회입니다. 이는 몇몇 높은 노출 수를 가진 광고 그룹의 영향으로 인해 분포가 왜곡되었을 가능성을 나타냅니다.\n",
       "> *   **클릭 수:** 평균 클릭 수는 26회이지만, 중앙값은 9회에 불과하여 다시 한 번 오른쪽으로 치우친 분포를 암시합니다. 대부분의 광고 그룹은 클릭 수가 적고, 일부만이 많은 클릭 수를 유도하는 것으로 보입니다.\n",
       "> *   **지출:** 평균 지출은 \\$33.64이고, 중앙값은 \\$12.82로, 역시 오른쪽으로 치우친 분포를 보입니다. 이는 대부분의 광고 그룹은 상대적으로 지출이 적지만, 일부는 상당히 높은 지출을 하는 것으로 해석할 수 있습니다.\n",
       "> *   **판매 및 주문:** 이 두 지표는 평균값이 중앙값보다 훨씬 높아, 분포가 매우 치우쳐 있음을 나타냅니다. 몇몇 광고 그룹이 상당한 판매 및 주문을 유도하는 반면, 더 큰 비중은 최소한의 판매/주문을 생성하거나 아예 생성하지 않습니다.\n",
       "> *   **판매된 단위 및 광고된 판매 단위:** 판매 및 주문과 마찬가지로, 판매된 단위와 광고된 판매 단위 모두 평균값이 중앙값보다 상당히 큽니다. 이는 판매 및 주문과 유사한 오른쪽으로 치우친 패턴을 암시합니다. 일부 광고 그룹은 많은 판매를 하지만, 많은 광고 그룹은 판매량이 매우 적거나 전혀 없습니다. \n",
       "> *   **기타 지표:** 기타 SKU 판매 단위, 광고된 SKU 판매 및 기타 SKU 판매는 판매 및 주문과 유사한 패턴을 보이는 것 같습니다. 이는 값이 매우 높은 이상치 행이 존재할 가능성을 나타냅니다.\n",
       "> \n",
       "> **잠재적 이상치**:\n",
       "> \n",
       "> 잠재적 이상치를 식별하기 위해 여러 가지 접근 방식을 고려할 수 있습니다.\n",
       "> \n",
       "> 1.  **노출/클릭/지출이 0인 행:** 노출, 클릭 및 지출이 0이지만 판매 및 주문은 0이 아닌 행이 많이 있습니다. 이러한 행은 데이터 기록 오류 또는 직접적인 광고 참여 없이 발생한 판매(유기적 판매)를 나타낼 수 있습니다. 이를 추가로 조사하는 것이 좋습니다.\n",
       "> 2.  **왜곡이 심한 지표:** 판매, 주문, 판매 단위와 같은 지표의 경우, 값이 75번째 백분위수보다 상당히 높거나 사분위수 범위의 3배를 초과하는 행을 잠재적 이상치로 간주해야 합니다. 이러한 성과가 높은 광고 그룹의 맥락을 파악하는 것이 중요합니다.\n",
       "> \n",
       "> **추가 EDA 단계:**\n",
       "> \n",
       "> 1.  **시각화:** 노출 수, 클릭 수, 지출, 판매, 주문과 같은 주요 지표에 대한 히스토그램 또는 상자 그림을 생성하여 분포를 더 잘 이해하고 이상치 행을 시각적으로 식별합니다. \n",
       "> 2.  **세분화:** Marketplace, Brand\\_Alias, Ad\\_group\\_alias별로 실적을 분석하여 잠재적인 차이점을 파악하고 각 세그먼트 내에서 이상치를 식별합니다.\n",
       "> 3.  **상관 관계:** 주요 지표 간의 상관 관계를 조사합니다. 예를 들어, 지출이 많을수록 판매/주문이 증가하는지 또는 특정 지출 임계값을 초과하면 수익이 감소하는지 확인합니다.\n",
       "> \n",
       "> **이상치 활용:**\n",
       "> \n",
       "> *   **맥락 조사:** 일부 광고 그룹에서 값이 매우 높거나 낮은 이유를 이해합니다. 특정 캠페인 설정, 타겟 잠재 고객, 계절성, 제품 특성 또는 외부 요인 때문일 수 있습니다. \n",
       "> *   **잠재적 제거:** 데이터 오류로 인해 이상치가 발생했거나 마케팅 믹스 모델과 관련이 없는 것으로 간주되는 경우, 일반적인 광고 그룹 실적을 더 정확하게 나타내기 위해 이상치를 제거하거나 조정하는 것을 고려합니다. \n",
       "> *   **모델링 고려 사항:** 마케팅 믹스 모델에서는 이상치에 강건한 분위 회귀 또는 강건 회귀와 같은 다양한 모델링 기술을 탐구하는 것이 좋을 수 있습니다.\n",
       "> \n",
       "> 포괄적인 EDA를 수행하고 잠재적 이상치 행을 신중하게 분석하면 광고 그룹 실적에 대한 귀중한 통찰력을 얻고 마케팅 믹스 모델이 안정적인 기반 위에 구축되도록 할 수 있습니다.\n"
      ],
      "text/plain": [
       "<IPython.core.display.Markdown object>"
      ]
     },
     "execution_count": 9,
     "metadata": {},
     "output_type": "execute_result"
    }
   ],
   "source": [
    "import textwrap\n",
    "\n",
    "from IPython.display import display\n",
    "from IPython.display import Markdown\n",
    "\n",
    "def to_markdown(text):\n",
    "  text = text.replace('•', '  *')\n",
    "  return Markdown(textwrap.indent(text, '> ', predicate=lambda _: True))\n",
    "\n",
    "## 마크다운으로 표시\n",
    "to_markdown(response2.text)"
   ]
  },
  {
   "cell_type": "markdown",
   "id": "8c0e696c-d154-4b45-9273-45856359d36e",
   "metadata": {},
   "source": [
    "## 데이터 정제\n",
    "\n",
    "MMM에 사용할 수 있는 형태로 데이터를 만듭니다. 데이터를 다듬고, 데이터셋을 훈련 데이터와 검정 데이터로 구분합니다. "
   ]
  },
  {
   "cell_type": "code",
   "execution_count": 10,
   "id": "ee469f78-2669-46d8-a6fc-e1231c05c7e4",
   "metadata": {
    "tags": []
   },
   "outputs": [],
   "source": [
    "agg_data = df.groupby([\"Ad_Date\", \"Ad_group_alias\"])[[\"Impressions\",\"Spend\", \"Sales\",]].sum()\n",
    "agg_data = agg_data.drop([\"Brand 1 Ad Group 12\"], axis=0, level=1) # zero cost train\n",
    "\n",
    "media_data_raw = agg_data['Impressions'].unstack().fillna(0)\n",
    "costs_raw = agg_data['Spend'].unstack()\n",
    "sales_raw = agg_data['Sales'].reset_index().groupby(\"Ad_Date\").sum()\n"
   ]
  },
  {
   "cell_type": "code",
   "execution_count": 11,
   "id": "e264b0f2-70fb-458d-ae31-74913e1268b0",
   "metadata": {
    "tags": []
   },
   "outputs": [],
   "source": [
    "split_point = pd.Timestamp(\"2021-12-15\") # 28 days to end of data\n",
    "\n",
    "media_data_train = media_data_raw.loc[:split_point - pd.Timedelta(1,'D')]\n",
    "media_data_test = media_data_raw.loc[split_point:]\n",
    "\n",
    "target_train = sales_raw.loc[:split_point - pd.Timedelta(1,'D')]\n",
    "target_test = sales_raw.loc[split_point:]\n",
    "\n",
    "costs_train = costs_raw.loc[:split_point - pd.Timedelta(1,'D')].sum(axis=0).loc[media_data_train.columns]"
   ]
  },
  {
   "cell_type": "code",
   "execution_count": 12,
   "id": "d31986e8-105b-4628-acfe-a0bfd44f2b33",
   "metadata": {
    "tags": []
   },
   "outputs": [],
   "source": [
    "import numpy as np\n",
    "\n",
    "## Make random noises\n",
    "organic_raw = pd.DataFrame({'organic_search': 0, 'organic_social': 0}, index=media_data_raw.index)\n",
    "organic_raw['organic_search'] = sales_raw['Sales'].values/10 + np.random.randint(10000, 100000, organic_raw.shape[0])\n",
    "organic_raw['organic_social'] = sales_raw['Sales'].values/10 + np.random.randint(10000, 100000, organic_raw.shape[0])"
   ]
  },
  {
   "cell_type": "markdown",
   "id": "2991d589-ab8a-4f59-81d4-1bda2bc6cbdd",
   "metadata": {},
   "source": [
    "### 데이터 스케일링\n",
    "\n",
    "LightweightMMM에서는 sklearn 기반의 내부의 Scaler를 제공합니다. 대부분의 경우 3~4개의 Scaler가 필요합니다. 미디어 데이터용 Scaler 하나, 타겟용 Scaler, 비용용 Scaler. 선택적으로 추가 기능을 추가하는 경우 추가 스케일러가 필요할 수 있습니다. LighweightMMM에서는 여러 군데에서 Scaler가 사용되고, 이를 사용해서 여러 단계에서 값을 조율할 수 있습니다.\n",
    "\n"
   ]
  },
  {
   "cell_type": "code",
   "execution_count": 13,
   "id": "cf12be3b-5804-4c99-8321-29b72abfb68e",
   "metadata": {
    "tags": []
   },
   "outputs": [],
   "source": [
    "\n",
    "## Divide Training data and test data with timestamp\n",
    "split_point = pd.Timestamp(\"2021-12-15\") # 28 days to end of data\n",
    "\n",
    "media_data_train = media_data_raw.loc[:split_point - pd.Timedelta(1,'D')]\n",
    "media_data_test = media_data_raw.loc[split_point:]\n",
    "\n",
    "\n",
    "organic_data_train = organic_raw.loc[:split_point - pd.Timedelta(1,'D')]\n",
    "organic_data_test = organic_raw.loc[split_point:]\n",
    "\n",
    "target_train = sales_raw.loc[:split_point - pd.Timedelta(1,'D')]\n",
    "target_test = sales_raw.loc[split_point:]\n",
    "\n",
    "costs_train = costs_raw.loc[:split_point - pd.Timedelta(1,'D')].sum(axis=0).loc[media_data_train.columns]\n",
    "\n",
    "## Scale data with mean()\n",
    "media_scaler = preprocessing.CustomScaler(divide_operation=jnp.mean)\n",
    "organic_scaler = preprocessing.CustomScaler(divide_operation=jnp.mean)\n",
    "target_scaler = preprocessing.CustomScaler(\n",
    "    divide_operation=jnp.mean)\n",
    "cost_scaler = preprocessing.CustomScaler(divide_operation=jnp.mean)\n",
    "\n",
    "### data transformation for model\n",
    "media_data_train_scaled = media_scaler.fit_transform(media_data_train.values.astype(int))\n",
    "organic_data_train_scaled = organic_scaler.fit_transform(organic_data_train.values)\n",
    "target_train_scaled = target_scaler.fit_transform(target_train['Sales'].values.squeeze())\n",
    "costs_scaled = cost_scaler.fit_transform(costs_train.values.astype(int))\n",
    "\n",
    "media_data_test_scaled = media_scaler.transform(media_data_test.values.astype(int))\n",
    "organic_data_test_scaled = organic_scaler.transform(organic_data_test.values)\n",
    "\n",
    "media_names = media_data_raw.columns"
   ]
  },
  {
   "cell_type": "markdown",
   "id": "bd346d88-4a47-4196-8530-25759814cde0",
   "metadata": {
    "tags": []
   },
   "source": [
    "## 모델링 \n",
    "\n",
    "여기서는 adstock, hill_adstock, carryover 의 세 가지 모델을 제공합니다. 각각의 모델은 media별 사전 확률을 활용하는 수식과 계절성 활용 정도에 따라 구분됩니다. "
   ]
  },
  {
   "cell_type": "code",
   "execution_count": 14,
   "id": "d338da2c-0d20-4624-9b17-49c7a1e500a0",
   "metadata": {
    "tags": []
   },
   "outputs": [
    {
     "name": "stderr",
     "output_type": "stream",
     "text": [
      "sample: 100%|██████████| 1010/1010 [10:03<00:00,  1.67it/s, 1023 steps of size 2.53e-03. acc. prob=0.91]\n"
     ]
    },
    {
     "name": "stdout",
     "output_type": "stream",
     "text": [
      "model_name=carryover degrees=1 MAPE=0.10130103167338399 samples=[30045.574 28512.982 27757.018]\n"
     ]
    }
   ],
   "source": [
    "\n",
    "\n",
    "#adstock_models = [\"adstock\", \"hill_adstock\", \"carryover\"]\n",
    "#degrees_season = [1,2,4]\n",
    "\n",
    "adstock_models = [\"carryover\"]\n",
    "degrees_season = [1]\n",
    "\n",
    "for model_name in adstock_models:\n",
    "  for degrees in degrees_season:\n",
    "    mmm = lightweight_mmm.LightweightMMM(model_name=model_name)\n",
    "    mmm.fit(media=media_data_train_scaled,\n",
    "            media_prior=costs_scaled,\n",
    "            target=target_train_scaled,\n",
    "            extra_features=organic_data_train_scaled,\n",
    "            number_warmup=10,\n",
    "            number_samples=1000,\n",
    "            number_chains=1,\n",
    "            degrees_seasonality=degrees,\n",
    "            weekday_seasonality=True,\n",
    "            seasonality_frequency=365,\n",
    "            seed=1)\n",
    "\n",
    "    prediction = mmm.predict(\n",
    "    media=media_data_test_scaled,\n",
    "    extra_features=organic_data_test_scaled,\n",
    "    target_scaler=target_scaler)\n",
    "    p = prediction.mean(axis=0)\n",
    "\n",
    "    mape = mean_absolute_percentage_error(target_test['Sales'].values, p)\n",
    "    print(f\"model_name={model_name} degrees={degrees} MAPE={mape} samples={p[:3]}\")"
   ]
  },
  {
   "cell_type": "code",
   "execution_count": 15,
   "id": "c87ec840-882c-4e53-b024-e0bf76b0b57d",
   "metadata": {
    "collapsed": true,
    "jupyter": {
     "outputs_hidden": true
    },
    "tags": []
   },
   "outputs": [
    {
     "name": "stderr",
     "output_type": "stream",
     "text": [
      "/opt/conda/lib/python3.10/pty.py:89: RuntimeWarning: os.fork() was called. os.fork() is incompatible with multithreaded code, and JAX is multithreaded, so this will likely lead to a deadlock.\n",
      "  pid, fd = os.forkpty()\n"
     ]
    },
    {
     "name": "stdout",
     "output_type": "stream",
     "text": [
      "Collecting matplotlib==3.1.3\n",
      "  Using cached matplotlib-3.1.3-cp310-cp310-linux_x86_64.whl\n",
      "Requirement already satisfied: cycler>=0.10 in /opt/conda/lib/python3.10/site-packages (from matplotlib==3.1.3) (0.12.1)\n",
      "Requirement already satisfied: kiwisolver>=1.0.1 in /opt/conda/lib/python3.10/site-packages (from matplotlib==3.1.3) (1.4.5)\n",
      "Requirement already satisfied: pyparsing!=2.0.4,!=2.1.2,!=2.1.6,>=2.0.1 in /opt/conda/lib/python3.10/site-packages (from matplotlib==3.1.3) (3.1.2)\n",
      "Requirement already satisfied: python-dateutil>=2.1 in /opt/conda/lib/python3.10/site-packages (from matplotlib==3.1.3) (2.9.0)\n",
      "Requirement already satisfied: numpy>=1.11 in /opt/conda/lib/python3.10/site-packages (from matplotlib==3.1.3) (1.24.4)\n",
      "Requirement already satisfied: six>=1.5 in /opt/conda/lib/python3.10/site-packages (from python-dateutil>=2.1->matplotlib==3.1.3) (1.16.0)\n",
      "Installing collected packages: matplotlib\n",
      "  Attempting uninstall: matplotlib\n",
      "    Found existing installation: matplotlib 3.6.1\n",
      "    Uninstalling matplotlib-3.6.1:\n",
      "      Successfully uninstalled matplotlib-3.6.1\n",
      "\u001b[31mERROR: pip's dependency resolver does not currently take into account all the packages that are installed. This behaviour is the source of the following dependency conflicts.\n",
      "arviz 0.18.0 requires matplotlib>=3.5, but you have matplotlib 3.1.3 which is incompatible.\n",
      "explainable-ai-sdk 1.3.3 requires matplotlib>=3.2.2, but you have matplotlib 3.1.3 which is incompatible.\n",
      "lightweight-mmm 0.1.9 requires matplotlib==3.6.1, but you have matplotlib 3.1.3 which is incompatible.\n",
      "ydata-profiling 4.6.0 requires matplotlib<=3.7.3,>=3.2, but you have matplotlib 3.1.3 which is incompatible.\u001b[0m\u001b[31m\n",
      "\u001b[0mSuccessfully installed matplotlib-3.1.3\n"
     ]
    }
   ],
   "source": [
    "!pip install matplotlib==3.1.3\n",
    "\n",
    "plt = plot.plot_response_curves(\n",
    "    media_mix_model=mmm, target_scaler=target_scaler, seed=1)\n",
    "fig = plt.get_figure()\n",
    "fig.savefig(\"plot_res_curve.png\", bbox_inches = \"tight\")"
   ]
  },
  {
   "cell_type": "code",
   "execution_count": 16,
   "id": "8b8a2691-0fcc-4e0b-b46a-dae7f6b8b0e7",
   "metadata": {
    "collapsed": true,
    "jupyter": {
     "outputs_hidden": true
    },
    "tags": []
   },
   "outputs": [
    {
     "name": "stdout",
     "output_type": "stream",
     "text": [
      "/opt/conda/bin/python: No module named pip3\n"
     ]
    },
    {
     "name": "stderr",
     "output_type": "stream",
     "text": [
      "/opt/conda/lib/python3.10/pty.py:89: RuntimeWarning: os.fork() was called. os.fork() is incompatible with multithreaded code, and JAX is multithreaded, so this will likely lead to a deadlock.\n",
      "  pid, fd = os.forkpty()\n"
     ]
    },
    {
     "name": "stdout",
     "output_type": "stream",
     "text": [
      "Requirement already satisfied: matplotlib in /opt/conda/lib/python3.10/site-packages (3.1.3)\n",
      "Requirement already satisfied: cycler>=0.10 in /opt/conda/lib/python3.10/site-packages (from matplotlib) (0.12.1)\n",
      "Requirement already satisfied: kiwisolver>=1.0.1 in /opt/conda/lib/python3.10/site-packages (from matplotlib) (1.4.5)\n",
      "Requirement already satisfied: pyparsing!=2.0.4,!=2.1.2,!=2.1.6,>=2.0.1 in /opt/conda/lib/python3.10/site-packages (from matplotlib) (3.1.2)\n",
      "Requirement already satisfied: python-dateutil>=2.1 in /opt/conda/lib/python3.10/site-packages (from matplotlib) (2.9.0)\n",
      "Requirement already satisfied: numpy>=1.11 in /opt/conda/lib/python3.10/site-packages (from matplotlib) (1.24.4)\n",
      "Requirement already satisfied: six>=1.5 in /opt/conda/lib/python3.10/site-packages (from python-dateutil>=2.1->matplotlib) (1.16.0)\n",
      "Requirement already satisfied: arviz in /opt/conda/lib/python3.10/site-packages (0.18.0)\n",
      "Requirement already satisfied: setuptools>=60.0.0 in /opt/conda/lib/python3.10/site-packages (from arviz) (69.2.0)\n",
      "Collecting matplotlib>=3.5 (from arviz)\n",
      "  Using cached matplotlib-3.8.4-cp310-cp310-manylinux_2_17_x86_64.manylinux2014_x86_64.whl.metadata (5.8 kB)\n",
      "Requirement already satisfied: numpy<2.0,>=1.23.0 in /opt/conda/lib/python3.10/site-packages (from arviz) (1.24.4)\n",
      "Requirement already satisfied: scipy>=1.9.0 in /opt/conda/lib/python3.10/site-packages (from arviz) (1.11.4)\n",
      "Requirement already satisfied: packaging in /opt/conda/lib/python3.10/site-packages (from arviz) (24.0)\n",
      "Requirement already satisfied: pandas>=1.5.0 in /opt/conda/lib/python3.10/site-packages (from arviz) (2.0.3)\n",
      "Requirement already satisfied: dm-tree>=0.1.8 in /opt/conda/lib/python3.10/site-packages (from arviz) (0.1.8)\n",
      "Requirement already satisfied: xarray>=2022.6.0 in /opt/conda/lib/python3.10/site-packages (from arviz) (2024.3.0)\n",
      "Requirement already satisfied: h5netcdf>=1.0.2 in /opt/conda/lib/python3.10/site-packages (from arviz) (1.3.0)\n",
      "Requirement already satisfied: typing-extensions>=4.1.0 in /opt/conda/lib/python3.10/site-packages (from arviz) (4.10.0)\n",
      "Requirement already satisfied: xarray-einstats>=0.3 in /opt/conda/lib/python3.10/site-packages (from arviz) (0.7.0)\n",
      "Requirement already satisfied: h5py in /opt/conda/lib/python3.10/site-packages (from h5netcdf>=1.0.2->arviz) (3.10.0)\n",
      "Requirement already satisfied: contourpy>=1.0.1 in /opt/conda/lib/python3.10/site-packages (from matplotlib>=3.5->arviz) (1.2.0)\n",
      "Requirement already satisfied: cycler>=0.10 in /opt/conda/lib/python3.10/site-packages (from matplotlib>=3.5->arviz) (0.12.1)\n",
      "Requirement already satisfied: fonttools>=4.22.0 in /opt/conda/lib/python3.10/site-packages (from matplotlib>=3.5->arviz) (4.50.0)\n",
      "Requirement already satisfied: kiwisolver>=1.3.1 in /opt/conda/lib/python3.10/site-packages (from matplotlib>=3.5->arviz) (1.4.5)\n",
      "Requirement already satisfied: pillow>=8 in /opt/conda/lib/python3.10/site-packages (from matplotlib>=3.5->arviz) (10.2.0)\n",
      "Requirement already satisfied: pyparsing>=2.3.1 in /opt/conda/lib/python3.10/site-packages (from matplotlib>=3.5->arviz) (3.1.2)\n",
      "Requirement already satisfied: python-dateutil>=2.7 in /opt/conda/lib/python3.10/site-packages (from matplotlib>=3.5->arviz) (2.9.0)\n",
      "Requirement already satisfied: pytz>=2020.1 in /opt/conda/lib/python3.10/site-packages (from pandas>=1.5.0->arviz) (2024.1)\n",
      "Requirement already satisfied: tzdata>=2022.1 in /opt/conda/lib/python3.10/site-packages (from pandas>=1.5.0->arviz) (2024.1)\n",
      "Requirement already satisfied: six>=1.5 in /opt/conda/lib/python3.10/site-packages (from python-dateutil>=2.7->matplotlib>=3.5->arviz) (1.16.0)\n",
      "Using cached matplotlib-3.8.4-cp310-cp310-manylinux_2_17_x86_64.manylinux2014_x86_64.whl (11.6 MB)\n",
      "Installing collected packages: matplotlib\n",
      "  Attempting uninstall: matplotlib\n",
      "    Found existing installation: matplotlib 3.1.3\n",
      "    Uninstalling matplotlib-3.1.3:\n",
      "      Successfully uninstalled matplotlib-3.1.3\n",
      "\u001b[31mERROR: pip's dependency resolver does not currently take into account all the packages that are installed. This behaviour is the source of the following dependency conflicts.\n",
      "lightweight-mmm 0.1.9 requires matplotlib==3.6.1, but you have matplotlib 3.8.4 which is incompatible.\n",
      "ydata-profiling 4.6.0 requires matplotlib<=3.7.3,>=3.2, but you have matplotlib 3.8.4 which is incompatible.\u001b[0m\u001b[31m\n",
      "\u001b[0mSuccessfully installed matplotlib-3.8.4\n"
     ]
    }
   ],
   "source": [
    "!python -m pip3 uninstall matplotlib\n",
    "!pip3 install matplotlib\n",
    "!pip3 install arviz\n",
    "\n",
    "import arviz"
   ]
  },
  {
   "cell_type": "code",
   "execution_count": 17,
   "id": "831b2c8c-bee0-404b-b77f-a36ae96bffd0",
   "metadata": {
    "tags": []
   },
   "outputs": [
    {
     "data": {
      "text/html": [
       "<div>\n",
       "<style scoped>\n",
       "    .dataframe tbody tr th:only-of-type {\n",
       "        vertical-align: middle;\n",
       "    }\n",
       "\n",
       "    .dataframe tbody tr th {\n",
       "        vertical-align: top;\n",
       "    }\n",
       "\n",
       "    .dataframe thead th {\n",
       "        text-align: right;\n",
       "    }\n",
       "</style>\n",
       "<table border=\"1\" class=\"dataframe\">\n",
       "  <thead>\n",
       "    <tr style=\"text-align: right;\">\n",
       "      <th>Ad_group_alias</th>\n",
       "      <th>Brand 1 Ad Group 1</th>\n",
       "      <th>Brand 1 Ad Group 10</th>\n",
       "      <th>Brand 1 Ad Group 11</th>\n",
       "      <th>Brand 1 Ad Group 13</th>\n",
       "      <th>Brand 1 Ad Group 2</th>\n",
       "      <th>Brand 1 Ad Group 3</th>\n",
       "      <th>Brand 1 Ad Group 4</th>\n",
       "      <th>Brand 1 Ad Group 5</th>\n",
       "      <th>Brand 1 Ad Group 6</th>\n",
       "      <th>Brand 1 Ad Group 7</th>\n",
       "      <th>Brand 1 Ad Group 8</th>\n",
       "      <th>Brand 1 Ad Group 9</th>\n",
       "      <th>Brand 2 Ad Group 1</th>\n",
       "      <th>Brand 2 Ad Group 2</th>\n",
       "      <th>Brand 2 Ad Group 3</th>\n",
       "      <th>Brand 2 Ad Group 4</th>\n",
       "      <th>Brand 2 Ad Group 5</th>\n",
       "      <th>Brand 1 Ad Group 14</th>\n",
       "      <th>Brand 2 Ad Group 6</th>\n",
       "    </tr>\n",
       "    <tr>\n",
       "      <th>Ad_Date</th>\n",
       "      <th></th>\n",
       "      <th></th>\n",
       "      <th></th>\n",
       "      <th></th>\n",
       "      <th></th>\n",
       "      <th></th>\n",
       "      <th></th>\n",
       "      <th></th>\n",
       "      <th></th>\n",
       "      <th></th>\n",
       "      <th></th>\n",
       "      <th></th>\n",
       "      <th></th>\n",
       "      <th></th>\n",
       "      <th></th>\n",
       "      <th></th>\n",
       "      <th></th>\n",
       "      <th></th>\n",
       "      <th></th>\n",
       "    </tr>\n",
       "  </thead>\n",
       "  <tbody>\n",
       "    <tr>\n",
       "      <th>2021-10-17</th>\n",
       "      <td>3317</td>\n",
       "      <td>33</td>\n",
       "      <td>50966</td>\n",
       "      <td>9519</td>\n",
       "      <td>40265</td>\n",
       "      <td>0</td>\n",
       "      <td>142704</td>\n",
       "      <td>55</td>\n",
       "      <td>94</td>\n",
       "      <td>1054</td>\n",
       "      <td>248</td>\n",
       "      <td>23321</td>\n",
       "      <td>276437</td>\n",
       "      <td>424883</td>\n",
       "      <td>135366</td>\n",
       "      <td>41905</td>\n",
       "      <td>9871</td>\n",
       "      <td>0</td>\n",
       "      <td>0</td>\n",
       "    </tr>\n",
       "    <tr>\n",
       "      <th>2021-10-18</th>\n",
       "      <td>1501</td>\n",
       "      <td>30</td>\n",
       "      <td>39424</td>\n",
       "      <td>14015</td>\n",
       "      <td>18545</td>\n",
       "      <td>0</td>\n",
       "      <td>389663</td>\n",
       "      <td>53</td>\n",
       "      <td>121</td>\n",
       "      <td>1669</td>\n",
       "      <td>283</td>\n",
       "      <td>28321</td>\n",
       "      <td>313907</td>\n",
       "      <td>492277</td>\n",
       "      <td>119675</td>\n",
       "      <td>46550</td>\n",
       "      <td>19920</td>\n",
       "      <td>50619</td>\n",
       "      <td>0</td>\n",
       "    </tr>\n",
       "    <tr>\n",
       "      <th>2021-10-19</th>\n",
       "      <td>771</td>\n",
       "      <td>63</td>\n",
       "      <td>236572</td>\n",
       "      <td>16543</td>\n",
       "      <td>13078</td>\n",
       "      <td>0</td>\n",
       "      <td>810070</td>\n",
       "      <td>58</td>\n",
       "      <td>122</td>\n",
       "      <td>1795</td>\n",
       "      <td>245</td>\n",
       "      <td>26105</td>\n",
       "      <td>296159</td>\n",
       "      <td>475287</td>\n",
       "      <td>191075</td>\n",
       "      <td>0</td>\n",
       "      <td>9253</td>\n",
       "      <td>43019</td>\n",
       "      <td>0</td>\n",
       "    </tr>\n",
       "    <tr>\n",
       "      <th>2021-10-20</th>\n",
       "      <td>958</td>\n",
       "      <td>70</td>\n",
       "      <td>277649</td>\n",
       "      <td>24590</td>\n",
       "      <td>10743</td>\n",
       "      <td>0</td>\n",
       "      <td>821705</td>\n",
       "      <td>60</td>\n",
       "      <td>111</td>\n",
       "      <td>948</td>\n",
       "      <td>234</td>\n",
       "      <td>0</td>\n",
       "      <td>314952</td>\n",
       "      <td>641517</td>\n",
       "      <td>98214</td>\n",
       "      <td>61017</td>\n",
       "      <td>18669</td>\n",
       "      <td>45642</td>\n",
       "      <td>0</td>\n",
       "    </tr>\n",
       "    <tr>\n",
       "      <th>2021-10-21</th>\n",
       "      <td>1841</td>\n",
       "      <td>59</td>\n",
       "      <td>251202</td>\n",
       "      <td>14236</td>\n",
       "      <td>10799</td>\n",
       "      <td>0</td>\n",
       "      <td>1241204</td>\n",
       "      <td>72</td>\n",
       "      <td>150</td>\n",
       "      <td>739</td>\n",
       "      <td>394</td>\n",
       "      <td>0</td>\n",
       "      <td>392621</td>\n",
       "      <td>412898</td>\n",
       "      <td>88922</td>\n",
       "      <td>121214</td>\n",
       "      <td>12977</td>\n",
       "      <td>69165</td>\n",
       "      <td>0</td>\n",
       "    </tr>\n",
       "  </tbody>\n",
       "</table>\n",
       "</div>"
      ],
      "text/plain": [
       "Ad_group_alias  Brand 1 Ad Group 1  Brand 1 Ad Group 10  Brand 1 Ad Group 11  \\\n",
       "Ad_Date                                                                        \n",
       "2021-10-17                    3317                   33                50966   \n",
       "2021-10-18                    1501                   30                39424   \n",
       "2021-10-19                     771                   63               236572   \n",
       "2021-10-20                     958                   70               277649   \n",
       "2021-10-21                    1841                   59               251202   \n",
       "\n",
       "Ad_group_alias  Brand 1 Ad Group 13  Brand 1 Ad Group 2  Brand 1 Ad Group 3  \\\n",
       "Ad_Date                                                                       \n",
       "2021-10-17                     9519               40265                   0   \n",
       "2021-10-18                    14015               18545                   0   \n",
       "2021-10-19                    16543               13078                   0   \n",
       "2021-10-20                    24590               10743                   0   \n",
       "2021-10-21                    14236               10799                   0   \n",
       "\n",
       "Ad_group_alias  Brand 1 Ad Group 4  Brand 1 Ad Group 5  Brand 1 Ad Group 6  \\\n",
       "Ad_Date                                                                      \n",
       "2021-10-17                  142704                  55                  94   \n",
       "2021-10-18                  389663                  53                 121   \n",
       "2021-10-19                  810070                  58                 122   \n",
       "2021-10-20                  821705                  60                 111   \n",
       "2021-10-21                 1241204                  72                 150   \n",
       "\n",
       "Ad_group_alias  Brand 1 Ad Group 7  Brand 1 Ad Group 8  Brand 1 Ad Group 9  \\\n",
       "Ad_Date                                                                      \n",
       "2021-10-17                    1054                 248               23321   \n",
       "2021-10-18                    1669                 283               28321   \n",
       "2021-10-19                    1795                 245               26105   \n",
       "2021-10-20                     948                 234                   0   \n",
       "2021-10-21                     739                 394                   0   \n",
       "\n",
       "Ad_group_alias  Brand 2 Ad Group 1  Brand 2 Ad Group 2  Brand 2 Ad Group 3  \\\n",
       "Ad_Date                                                                      \n",
       "2021-10-17                  276437              424883              135366   \n",
       "2021-10-18                  313907              492277              119675   \n",
       "2021-10-19                  296159              475287              191075   \n",
       "2021-10-20                  314952              641517               98214   \n",
       "2021-10-21                  392621              412898               88922   \n",
       "\n",
       "Ad_group_alias  Brand 2 Ad Group 4  Brand 2 Ad Group 5  Brand 1 Ad Group 14  \\\n",
       "Ad_Date                                                                       \n",
       "2021-10-17                   41905                9871                    0   \n",
       "2021-10-18                   46550               19920                50619   \n",
       "2021-10-19                       0                9253                43019   \n",
       "2021-10-20                   61017               18669                45642   \n",
       "2021-10-21                  121214               12977                69165   \n",
       "\n",
       "Ad_group_alias  Brand 2 Ad Group 6  \n",
       "Ad_Date                             \n",
       "2021-10-17                       0  \n",
       "2021-10-18                       0  \n",
       "2021-10-19                       0  \n",
       "2021-10-20                       0  \n",
       "2021-10-21                       0  "
      ]
     },
     "execution_count": 17,
     "metadata": {},
     "output_type": "execute_result"
    }
   ],
   "source": [
    "media_data_train.head()"
   ]
  },
  {
   "cell_type": "markdown",
   "id": "5ad4ba2e-dcdc-440f-aad8-7418075cd143",
   "metadata": {
    "tags": []
   },
   "source": [
    "## 결과 해석 및 모델 설명\n",
    "\n",
    "기본으로 제공하는 그래프도 베이지안 사전 지식이나 분포 사전 지식 등이 필요하고 모델에 대한 이해가 있어야 하므로 그래프를 기반으로 Gemini에게 설명을 맡겨서 그래프와 함께 내용을 같이 확인할 수 있도록 합니다.\n"
   ]
  },
  {
   "cell_type": "markdown",
   "id": "61b44f2e-0140-4526-9ec6-ec49caac10f7",
   "metadata": {
    "jupyter": {
     "outputs_hidden": true
    },
    "tags": []
   },
   "source": [
    "plt = plot.plot_prior_and_posterior(media_mix_model=mmm)\n",
    "fig = plt.get_figure()\n"
   ]
  },
  {
   "cell_type": "code",
   "execution_count": 19,
   "id": "fa848e1b-f578-49f3-b8cb-60d823c284fb",
   "metadata": {
    "tags": []
   },
   "outputs": [],
   "source": [
    "fig.savefig(\"plot_media_posterior.png\", bbox_inches = \"tight\")"
   ]
  },
  {
   "cell_type": "code",
   "execution_count": 20,
   "id": "69190d69-2b84-428d-938a-9aa089800b47",
   "metadata": {
    "collapsed": true,
    "jupyter": {
     "outputs_hidden": true
    },
    "tags": []
   },
   "outputs": [
    {
     "name": "stderr",
     "output_type": "stream",
     "text": [
      "WARNING:absl:Unscaled cost data or cost scaler were not given and  therefore unscaling wont be applied to calculcate contribution and ROI. If data was not scaled prior to training please ignore this warning.\n",
      "WARNING:absl:Target scaler was not given and unscaling of the target will not occur. If your target was not scaled prior to training you can ignore this warning.\n"
     ]
    }
   ],
   "source": [
    "media_effect_hat, roi_hat = mmm.get_posterior_metrics()\n",
    "plt = plot.plot_bars_media_metrics(metric = media_effect_hat, channel_names=media_names)\n",
    "fig = plt.get_figure()\n",
    "fig.savefig(\"plot_media_hat.png\", bbox_inches = \"tight\")\n",
    "plt = plot.plot_bars_media_metrics(metric = roi_hat, channel_names=media_names)\n",
    "fig = plt.get_figure()\n",
    "fig.savefig(\"plot_roi_hat.png\", bbox_inches = \"tight\")"
   ]
  },
  {
   "cell_type": "code",
   "execution_count": 21,
   "id": "b47f9bc1-e303-4f8b-a7ae-4e0e18593754",
   "metadata": {
    "tags": []
   },
   "outputs": [],
   "source": [
    "plt = plot.plot_response_curves(\n",
    "    media_mix_model=mmm, target_scaler=target_scaler, seed=1)\n",
    "fig = plt.get_figure()\n",
    "fig.savefig(\"plot_res_curve.png\", bbox_inches = \"tight\")"
   ]
  },
  {
   "cell_type": "code",
   "execution_count": 22,
   "id": "2854fd5b-17ec-486b-8e1b-f7b587e3ec58",
   "metadata": {
    "tags": []
   },
   "outputs": [],
   "source": [
    "from pathlib import Path\n",
    "import hashlib\n",
    "\n",
    "uploaded_files = []\n",
    "def upload_if_needed(pathname: str) -> list[str]:\n",
    "  path = Path(pathname)\n",
    "  hash_id = hashlib.sha256(path.read_bytes()).hexdigest()\n",
    "  try:\n",
    "    existing_file = genai.get_file(name=hash_id)\n",
    "    return [existing_file]\n",
    "  except:\n",
    "    pass\n",
    "  uploaded_files.append(genai.upload_file(path=path, display_name=hash_id))\n",
    "  return [uploaded_files[-1]]\n",
    "\n",
    "#   img1, img2, img3, img4,  , img2, img3, img4, \n",
    "\n",
    "prompt_parts = [\n",
    "  \"These graphs are from marketing mix model result.\", \n",
    "  \"First graph shows an visualize the prior and posterior distributions for every model parameter at once. Note that we use a kernel density estimator to smooth these distributions for easier interpretability; you may need to adjust the bandwidth of the smoother depending on the shapes of your distributions.\", \n",
    "  \"Second plot is also about media effect metrics. Third plot is the ROI plot. These plots take into account not only the media effect but how much it costs to get this effect. Another vital question we can solve with MMMs is how each media channel behaves individually as we invest more in it. \",\n",
    "  \"For that we plot the curve response of all media channels. It is the fourth plot. \", \n",
    "  \" I need to use this graph to write a report to help us make decisions about our marketing advertising budget.\",\n",
    "  *upload_if_needed('plot_media_posterior.png'),\n",
    "  *upload_if_needed(\"plot_media_hat.png\"),\n",
    "  *upload_if_needed(\"plot_roi_hat.png\"),\n",
    "  *upload_if_needed(\"plot_res_curve.png\"),\n",
    "  \"Please be as helpful as possible in describing your interpretation of the graph and what you can do with it. Thanks in advance.  \",\n",
    "]\n",
    "response = genaimodel.generate_content(prompt_parts, generation_config=generation_config)\n",
    "to_markdown(response.text)\n",
    "for uploaded_file in uploaded_files:\n",
    "  genai.delete_file(name=uploaded_file.name)\n"
   ]
  },
  {
   "cell_type": "code",
   "execution_count": 23,
   "id": "db2faae8-3da7-4a3a-a1a8-f170d4756070",
   "metadata": {
    "tags": []
   },
   "outputs": [
    {
     "data": {
      "text/markdown": [
       "> ## 마케팅 믹스 모델 결과 해석:\n",
       "> \n",
       "> 제공해주신 그래프를 기반으로 마케팅 예산 할당에 대한 해석과 잠재적인 조치를 제시합니다. \n",
       "> \n",
       "> **1. 반응 곡선:**\n",
       "> \n",
       "> * **채널 0, 1, 2:** 이 채널들은 강한 양의 반응을 보입니다. 즉, 지출이 증가하면 결과 (전환, 매출 등) 도 증가한다는 것을 의미합니다. 이러한 고성과 채널에 더 많은 예산을 할당하는 것을 고려해 보세요. \n",
       "> * **채널 12:** 이 채널은 수확 체감의 법칙을 보여줍니다. 처음에는 효과적이지만 지출이 증가함에 따라 영향력이 감소합니다. 비용 대비 효과를 평가하고 적절한 예산을 고려하세요.\n",
       "> * **채널 15, 17:** 이 채널들은 거의 또는 전혀 반응을 보이지 않습니다. 실적이 저조한 이유를 분석하고 이러한 채널에 대한 지출을 줄이거나 전략을 수정하는 것을 고려해 보세요. \n",
       "> * **기타 채널:** 대부분의 채널은 비교적 선형적인 반응을 보입니다. ROI와 전반적인 마케팅 목표에 따라 예산을 유지하거나 조정하세요. \n",
       "> \n",
       "> **2. 미디어 효과 지표:**\n",
       "> \n",
       "> * **브랜드 1 광고 그룹 10, 브랜드 1 광고 그룹 13, 브랜드 2 광고 그룹 1:** 이 그룹들은 가장 높은 효과를 보이며, 성공적인 타겟팅과 메시지를 나타낼 가능성이 있습니다. 이러한 그룹이 성공한 요인을 분석하고 다른 그룹에도 전략을 적용하세요. \n",
       "> * **브랜드 1 광고 그룹 5, 6, 7, 브랜드 2 광고 그룹 2, 3, 4, 5:** 이 그룹들은 낮거나 중간 정도의 효과를 보입니다. 실적을 평가하여 개선 영역을 파악하거나 예산 할당을 줄이는 것을 고려하세요. \n",
       "> \n",
       "> **3. ROI 플롯 (없음):**\n",
       "> \n",
       "> * **각 채널에 대한 ROI 분석:** 수익률이 높은 채널을 파악하고 예산 할당에서 우선순위를 부여하세요. \n",
       "> * **ROI가 낮은 채널 평가:** 실적이 저조한 이유를 조사하고, 전략 수정, 캠페인 최적화 또는 예산 재할당을 고려하세요. \n",
       "> \n",
       "> **실행 가능한 단계:**\n",
       "> \n",
       "> 1. **고성과 채널 우선순위 지정:** 예산의 상당 부분을 채널 0, 1, 2, 그리고 강력한 반응과 높은 ROI를 보이는 다른 채널에 할당하세요. \n",
       "> 2. **저성과 채널 최적화:** 15, 17과 같이 실적이 낮은 채널의 이유를 분석하고 파악하여 지출 감소 또는 대체 전략 테스트를 고려하세요.\n",
       "> 3. **성공적인 광고 그룹 확장:**  효과 지표가 높은 광고 그룹에서 얻은 교훈을 바탕으로 효과 지표가 낮은 다른 그룹에도 유사한 전략을 적용하세요.\n",
       "> 4. **지속적인 모니터링 및 조정:** 마케팅 믹스 모델 결과를 정기적으로 검토하고 실적 및 시장 변화에 따라 예산 할당을 조정하세요. \n",
       "> \n",
       "> **추가 고려 사항:**\n",
       "> \n",
       "> * **외부 요인:** 계절성, 경쟁사 활동, 경제 상황 등 외부 요인이 채널 실적에 미치는 영향을 평가하세요.\n",
       "> * **시너지 효과:**  다른 채널이 어떻게 함께 작동하는지 분석하고 예산을 할당할 때 잠재적인 시너지 효과를 고려하세요.\n",
       "> * **브랜드 목표:** 예산 할당을 전반적인 브랜드 목표 및 마케팅 목표와 일치시키세요. \n",
       "> \n",
       "> **마케팅 믹스 모델에서 얻은 통찰력을 활용하고 이러한 요소들을 고려함으로써, 데이터 기반 의사 결정을 내려 마케팅 예산을 최적화하고 더 나은 캠페인 결과를 달성할 수 있습니다.** \n"
      ],
      "text/plain": [
       "<IPython.core.display.Markdown object>"
      ]
     },
     "execution_count": 23,
     "metadata": {},
     "output_type": "execute_result"
    }
   ],
   "source": [
    "response2 = genaimodel.generate_content([\"다음 내용을 한국어로 바꿔줘. \", response.text], generation_config=generation_config)\n",
    "to_markdown(response2.text)"
   ]
  },
  {
   "cell_type": "markdown",
   "id": "13d93107-4f22-47b2-92b7-4c0da146c624",
   "metadata": {},
   "source": [
    "## 예산 최적화\n",
    "\n",
    "주어진 효과를 모델에서 파악한 정도에 따라서 최적으로 채널별 예산을 분배함"
   ]
  },
  {
   "cell_type": "code",
   "execution_count": 27,
   "id": "7e52f4d8-e64b-4275-bf72-727a4065db5d",
   "metadata": {
    "tags": []
   },
   "outputs": [],
   "source": [
    "prices = jnp.ones(mmm.n_media_channels)\n",
    "n_time_periods = 50\n",
    "budget = prices * media_data_raw.mean(axis=0)* n_time_periods"
   ]
  },
  {
   "cell_type": "code",
   "execution_count": 28,
   "id": "dcb1cc26-6e40-4324-ae9a-cb3ce535b2be",
   "metadata": {
    "collapsed": true,
    "jupyter": {
     "outputs_hidden": true,
     "source_hidden": true
    },
    "tags": []
   },
   "outputs": [
    {
     "data": {
      "text/plain": [
       "array([1.92058553e+05, 1.13815789e+03, 3.61940461e+06, 9.96236842e+05,\n",
       "       1.27609408e+06, 1.32414474e+04, 2.13091737e+07, 2.11907895e+03,\n",
       "       2.05361842e+04, 2.95625000e+04, 2.74296053e+04, 4.54442763e+05,\n",
       "       1.71435796e+07, 2.83338428e+07, 5.25976447e+06, 1.02199868e+06,\n",
       "       1.00021053e+06, 3.57528947e+05, 8.96907895e+03])"
      ]
     },
     "execution_count": 28,
     "metadata": {},
     "output_type": "execute_result"
    }
   ],
   "source": [
    "budget.values"
   ]
  },
  {
   "cell_type": "code",
   "execution_count": 39,
   "id": "63075186-e2a1-4b48-b712-cc251c9ef4bf",
   "metadata": {
    "tags": []
   },
   "outputs": [
    {
     "name": "stdout",
     "output_type": "stream",
     "text": [
      "Iteration limit reached    (Exit mode 9)\n",
      "            Current function value: -1251056.5948636667\n",
      "            Iterations: 10\n",
      "            Function evaluations: 390\n",
      "            Gradient evaluations: 10\n"
     ]
    }
   ],
   "source": [
    "# Run optimization with the parameters of choice.\n",
    "solution, kpi_without_optim, previous_media_allocation = optimize_media.find_optimal_budgets(\n",
    "    n_time_periods=n_time_periods,\n",
    "    media_mix_model=mmm,\n",
    "#    extra_features=extra_features_scaler.transform(extra_features_test)[:n_time_periods],\n",
    "    budget= sum(budget.values), \n",
    "    prices=prices,\n",
    "    media_scaler=media_scaler,\n",
    "    target_scaler=target_scaler,\n",
    "    max_iterations = 10,\n",
    "    seed=1)"
   ]
  },
  {
   "cell_type": "code",
   "execution_count": 40,
   "id": "4ea385a3-5e8f-4579-bd98-fc8d0cc7d886",
   "metadata": {
    "tags": []
   },
   "outputs": [
    {
     "data": {
      "text/plain": [
       "Array([1.8141009e+05, 1.5976271e+03, 3.5399262e+06, 9.6178794e+05,\n",
       "       1.2558705e+06, 1.6166907e+04, 2.2025928e+07, 2.3277966e+03,\n",
       "       2.2146145e+04, 3.0611891e+04, 2.5923617e+04, 4.4037706e+05,\n",
       "       1.7143188e+07, 2.7503890e+07, 5.2502645e+06, 1.2654550e+06,\n",
       "       9.4129088e+05, 4.5191903e+05, 7.2498643e+03], dtype=float32)"
      ]
     },
     "execution_count": 40,
     "metadata": {},
     "output_type": "execute_result"
    }
   ],
   "source": [
    "optimal_buget_allocation = prices * solution.x\n",
    "optimal_buget_allocation"
   ]
  },
  {
   "cell_type": "code",
   "execution_count": 41,
   "id": "3f0694e2-94e5-4754-8a51-086b3dfbf3f2",
   "metadata": {
    "tags": []
   },
   "outputs": [
    {
     "data": {
      "text/plain": [
       "Array([1.8144233e+05, 1.3068665e+03, 3.5400885e+06, 9.6188712e+05,\n",
       "       1.2560151e+06, 1.5516023e+04, 2.2026096e+07, 1.9041487e+03,\n",
       "       2.1957184e+04, 3.0444746e+04, 2.5856990e+04, 4.4047891e+05,\n",
       "       1.7143354e+07, 2.7504056e+07, 5.2504270e+06, 1.2656099e+06,\n",
       "       9.4143306e+05, 4.5207431e+05, 7.3828384e+03], dtype=float32)"
      ]
     },
     "execution_count": 41,
     "metadata": {},
     "output_type": "execute_result"
    }
   ],
   "source": [
    "# similar renormalization to get previous budget allocation\n",
    "previous_budget_allocation = prices * previous_media_allocation\n",
    "previous_budget_allocation"
   ]
  },
  {
   "cell_type": "code",
   "execution_count": 49,
   "id": "4e2238ad-a8fb-4553-a8d3-8c90885f51ce",
   "metadata": {
    "collapsed": true,
    "jupyter": {
     "outputs_hidden": true
    },
    "tags": []
   },
   "outputs": [
    {
     "ename": "NameError",
     "evalue": "name 'optimal_budget_allocation' is not defined",
     "output_type": "error",
     "traceback": [
      "\u001b[0;31m---------------------------------------------------------------------------\u001b[0m",
      "\u001b[0;31mNameError\u001b[0m                                 Traceback (most recent call last)",
      "Cell \u001b[0;32mIn[49], line 2\u001b[0m\n\u001b[1;32m      1\u001b[0m \u001b[38;5;66;03m# Both these values should be very close in order to compare KPI\u001b[39;00m\n\u001b[0;32m----> 2\u001b[0m budget, \u001b[43moptimal_budget_allocation\u001b[49m\u001b[38;5;241m.\u001b[39msum()\n",
      "\u001b[0;31mNameError\u001b[0m: name 'optimal_budget_allocation' is not defined"
     ]
    }
   ],
   "source": [
    "# Both these values should be very close in order to compare KPI\n",
    "budget, optimal_budget_allocation.sum()"
   ]
  },
  {
   "cell_type": "markdown",
   "id": "bf4d6656-1c28-4e1c-bf89-d2225aaaf21e",
   "metadata": {
    "jupyter": {
     "outputs_hidden": true
    },
    "tags": []
   },
   "source": [
    "## 모델 저장\n",
    "\n",
    "모델을 저장해두고 재활용할 수 있습니다. "
   ]
  },
  {
   "cell_type": "code",
   "execution_count": 44,
   "id": "98dea453-4570-4896-a633-8e27681617f9",
   "metadata": {
    "tags": []
   },
   "outputs": [],
   "source": [
    "from lightweight_mmm import utils\n",
    "\n",
    "# We can use the utilities for saving models to disk.\n",
    "file_path = \"media_mix_model.pkl\"\n",
    "utils.save_model(media_mix_model=mmm, file_path=file_path)"
   ]
  },
  {
   "cell_type": "markdown",
   "id": "cb1e63f7-b24d-4066-98a4-9e8c04e73895",
   "metadata": {},
   "source": [
    "## 예산 최적화에 대한 비교 설명\n",
    "\n",
    "예산 최적화 결과와 이전 예산안을 비교한 후에 이에 대해서 자동으로 파악을 할 수 있습니다.\n",
    "(여기서 사용한 데이터에는 적합하지 않아서 생략함) "
   ]
  },
  {
   "cell_type": "code",
   "execution_count": null,
   "id": "1b4d1693-7abd-4eb2-a319-280ad762b0ed",
   "metadata": {},
   "outputs": [
    {
     "data": {
      "text/plain": [
       "'Brand 1 Ad Group 1,Brand 1 Ad Group 10,Brand 1 Ad Group 11,Brand 1 Ad Group 13,Brand 1 Ad Group 2,Brand 1 Ad Group 3,Brand 1 Ad Group 4,Brand 1 Ad Group 5,Brand 1 Ad Group 6,Brand 1 Ad Group 7,Brand 1 Ad Group 8,Brand 1 Ad Group 9,Brand 2 Ad Group 1,Brand 2 Ad Group 2,Brand 2 Ad Group 3,Brand 2 Ad Group 4,Brand 2 Ad Group 5,Brand 1 Ad Group 14,Brand 2 Ad Group 6'"
      ]
     },
     "execution_count": 82,
     "metadata": {},
     "output_type": "execute_result"
    }
   ],
   "source": [
    "','.join(budget.index)\n",
    "#np.array2string(budget.index, separator=',')[1: len(np.array2string(budget.index, separator=','))-1]"
   ]
  },
  {
   "cell_type": "code",
   "execution_count": null,
   "id": "fee02347-2881-4cc7-9083-eb7c4929dd04",
   "metadata": {
    "collapsed": true,
    "jupyter": {
     "outputs_hidden": true
    }
   },
   "outputs": [
    {
     "data": {
      "text/markdown": [
       "> ## Analysis of Optimal vs. Existing Budget Allocation for Marketing Campaigns\n",
       "> \n",
       "> This report analyzes the differences between the recommended optimal budget allocation and the existing budget allocation for your marketing campaigns.  It identifies areas of improvement and suggests future strategies.\n",
       "> \n",
       "> **Observations:**\n",
       "> \n",
       "> * **Significant discrepancies exist between optimal and current budgets for several ad groups.** This indicates potential inefficiencies in budget allocation, where some campaigns might be over- or under-funded compared to their predicted impact.\n",
       "> * **Both Brand 1 and Brand 2 exhibit these discrepancies.** This suggests the issue is not brand-specific but applies across campaigns.\n",
       "> \n",
       "> **Recommendations:**\n",
       "> \n",
       "> 1. **Review Ad Group Performance:** Deep dive into the performance metrics (impressions, clicks, conversions) of ad groups with significant budget discrepancies. This analysis can identify underperforming ad groups that might be receiving excessive budgets or high-performing ones needing further investment.\n",
       "> 2. **Consider Gradual Budget Adjustments:** Instead of drastic changes, consider incrementally adjusting budgets towards the optimal allocation. This approach allows for monitoring performance and making necessary refinements along the way. \n",
       "> 3. **A/B Testing for Validation:**  Implement A/B testing to compare the performance of current budget allocation against the optimal model's recommendations. This will provide empirical data to support decision making. \n",
       "> 4. **Investigate Underlying Factors:**  Explore potential causes for the discrepancies.  Are there specific targeting parameters, ad creatives, or landing page experiences influencing performance?  Understanding these factors can further refine budget allocation and campaign optimization strategies.\n",
       "> 5. **Refine the Model (if necessary):** While the marketing mix model offers valuable insights, consider refining it further by incorporating additional variables or data sources that could impact performance predictions.  \n",
       "> \n",
       "> **Additional Considerations:**\n",
       "> \n",
       "> * **Seasonality and Trends:** Evaluate seasonality and market trends when adjusting budgets, as some campaigns might require higher spending during specific periods. \n",
       "> * **Competitor Analysis:**  Analyze competitor activity to understand their strategies and adjust budgets accordingly. \n",
       "> * **Campaign Goals:** Align budget allocation with specific campaign goals, such as brand awareness, lead generation, or sales conversions.\n",
       "> \n",
       "> **Conclusion:**\n",
       "> \n",
       "> By aligning your budget allocation with the optimal recommendations and employing a data-driven approach, you can improve marketing campaign performance and maximize return on investment.  Continuously monitor results and refine strategies for sustained success.\n"
      ],
      "text/plain": [
       "<IPython.core.display.Markdown object>"
      ]
     },
     "execution_count": 86,
     "metadata": {},
     "output_type": "execute_result"
    }
   ],
   "source": [
    "## budget이 어려운 경우에 설명. 여기서는 거의 비슷한 결과가 나왔으므로 생략함. \n",
    "\n",
    "prompt_parts = [\n",
    "  \"Here's the optimal budget allocation using this marketing mix model, and the second value is the existing budget allocation, and the third value is the ad group name index for each of these. Compare the two and write a nice report about what you think we should do in the future. And then I'll do what you want. Thank you very much.    \",\n",
    "    np.array2string(optimal_buget_allocation, separator=',')[1: len(np.array2string(optimal_buget_allocation, separator=','))-1],\n",
    "    np.array2string(previous_budget_allocation, separator=',')[1: len(np.array2string(optimal_buget_allocation, separator=','))-1] ,\n",
    "    ','.join(budget.index)\n",
    "]\n",
    "response = genaimodel.generate_content(prompt_parts, generation_config=generation_config)\n",
    "to_markdown(response.text)"
   ]
  },
  {
   "cell_type": "code",
   "execution_count": null,
   "id": "d2ec6caa-efe9-4556-9458-6b8f1e38ba62",
   "metadata": {
    "collapsed": true,
    "jupyter": {
     "outputs_hidden": true
    },
    "tags": []
   },
   "outputs": [
    {
     "data": {
      "text/markdown": [
       "> ## 마케팅 캠페인 최적 예산 할당 vs. 기존 예산 할당 분석\n",
       "> \n",
       "> 이 보고서는 마케팅 캠페인에 대한 권장 최적 예산 할당과 기존 예산 할당의 차이점을 분석하고, 개선 영역을 파악하며 향후 전략을 제안합니다.\n",
       "> \n",
       "> **관찰 결과:**\n",
       "> \n",
       "> * **여러 광고 그룹에서 최적 예산과 현재 예산 사이에 상당한 차이가 있습니다.**  이는 예산 할당에 비효율성이 있을 수 있음을 나타내며, 일부 캠페인은 예상되는 효과에 비해 과소 또는 과대 투자되었을 수 있습니다.\n",
       "> * **브랜드 1과 브랜드 2 모두 이러한 차이를 보입니다.**  이는 문제가 특정 브랜드에 국한되지 않고 캠페인 전반에 적용됨을 시사합니다.\n",
       "> \n",
       "> **권장 사항:**\n",
       "> \n",
       "> 1. **광고 그룹 실적 검토:**  예산 차이가 큰 광고 그룹의 실적 지표(노출 수, 클릭 수, 전환 수)를 자세히 살펴보세요. 이 분석을 통해 과도한 예산을 받는 성과가 저조한 광고 그룹이나 추가 투자가 필요한 성과가 우수한 광고 그룹을 식별할 수 있습니다.\n",
       "> 2. **점진적 예산 조정 고려:**  급격한 변화보다는 최적 할당을 향해 예산을 점진적으로 조정하는 것을 고려하세요. 이 접근 방식을 통해 성과를 모니터링하고 필요한 조정을 진행할 수 있습니다.\n",
       "> 3. **A/B 테스트를 통한 검증:**  A/B 테스트를 통해 현재 예산 할당과 최적 모델의 권장 사항에 따른 성과를 비교하세요. 이를 통해 의사 결정을 뒷받침할 실증적 데이터를 얻을 수 있습니다.\n",
       "> 4. **근본적인 요인 조사:**  차이점의 잠재적 원인을 탐구하세요. 특정 타겟팅 매개변수, 광고 소재 또는 방문 페이지 경험이 성과에 영향을 미치는가?  이러한 요인을 이해하면 예산 할당 및 캠페인 최적화 전략을 더욱 개선할 수 있습니다.\n",
       "> 5. **모델 개선(필요한 경우):** 마케팅 믹스 모델은 가치 있는 통찰력을 제공하지만, 성과 예측에 영향을 미칠 수 있는 추가 변수 또는 데이터 소스를 통합하여 더욱 개선할 수 있습니다.\n",
       "> \n",
       "> **추가 고려 사항:**\n",
       "> \n",
       "> * **계절성 및 트렌드:**  예산을 조정할 때 계절성 및 시장 트렌드를 평가하세요. 일부 캠페인은 특정 기간 동안 더 많은 지출이 필요할 수 있습니다.\n",
       "> * **경쟁사 분석:**  경쟁사 활동을 분석하여 그들의 전략을 이해하고 예산을 적절하게 조정하세요.\n",
       "> * **캠페인 목표:**  예산 할당을 브랜드 인지도, 리드 생성 또는 판매 전환과 같은 특정 캠페인 목표와 일치시키세요.\n",
       "> \n",
       "> **결론:**\n",
       "> \n",
       "> 예산 할당을 최적 권장 사항과 일치시키고 데이터 기반 접근 방식을 활용함으로써 마케팅 캠페인 성과를 개선하고 투자 수익률을 극대화할 수 있습니다. 지속적인 성과 모니터링과 전략 개선을 통해 지속적인 성공을 달성하세요. \n"
      ],
      "text/plain": [
       "<IPython.core.display.Markdown object>"
      ]
     },
     "execution_count": 87,
     "metadata": {},
     "output_type": "execute_result"
    }
   ],
   "source": [
    "response2 = genaimodel.generate_content([\"다음 내용을 한국어로 바꿔줘. \", response.text], generation_config=generation_config)\n",
    "to_markdown(response2.text)"
   ]
  }
 ],
 "metadata": {
  "environment": {
   "kernel": "python3",
   "name": "tf2-cpu.2-11.m119",
   "type": "gcloud",
   "uri": "us-docker.pkg.dev/deeplearning-platform-release/gcr.io/tf2-cpu.2-11:m119"
  },
  "kernelspec": {
   "display_name": "Python 3 (Local)",
   "language": "python",
   "name": "python3"
  },
  "language_info": {
   "codemirror_mode": {
    "name": "ipython",
    "version": 3
   },
   "file_extension": ".py",
   "mimetype": "text/x-python",
   "name": "python",
   "nbconvert_exporter": "python",
   "pygments_lexer": "ipython3",
   "version": "3.10.14"
  }
 },
 "nbformat": 4,
 "nbformat_minor": 5
}
